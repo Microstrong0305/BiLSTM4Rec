{
 "cells": [
  {
   "cell_type": "code",
   "execution_count": 1,
   "metadata": {},
   "outputs": [
    {
     "name": "stderr",
     "output_type": "stream",
     "text": [
      "C:\\ProgramData\\Anaconda3\\lib\\site-packages\\h5py\\__init__.py:36: FutureWarning: Conversion of the second argument of issubdtype from `float` to `np.floating` is deprecated. In future, it will be treated as `np.float64 == np.dtype(float).type`.\n",
      "  from ._conv import register_converters as _register_converters\n",
      "Using TensorFlow backend.\n"
     ]
    }
   ],
   "source": [
    "import matplotlib.pyplot as plt\n",
    "from functools import partial\n",
    "\n",
    "import keras\n",
    "from keras.optimizers import SGD, RMSprop\n",
    "import numpy as np\n",
    "import pandas as pd\n",
    "from keras import backend as K\n",
    "from keras.callbacks import EarlyStopping, ReduceLROnPlateau\n",
    "from keras.layers import Dense, LSTM, Bidirectional, Lambda, Input, TimeDistributed\n",
    "from keras.layers.embeddings import Embedding\n",
    "from keras.models import Sequential, Model\n",
    "from keras.utils import plot_model\n",
    "from sklearn.metrics import precision_score\n",
    "from sklearn.model_selection import train_test_split"
   ]
  },
  {
   "cell_type": "code",
   "execution_count": 2,
   "metadata": {},
   "outputs": [],
   "source": [
    "def get_precision_score(labels, predictions):\n",
    "    score = 0\n",
    "    for i in range(0, len(labels)):\n",
    "        if labels[i] in predictions[i]:\n",
    "            score += 1\n",
    "    return score / predictions.size\n",
    "def get_recall_score(labels, predictions):\n",
    "    score = 0\n",
    "    for i in range(0, len(labels)):\n",
    "        if labels[i] in predictions[i]:\n",
    "            score += 1\n",
    "    return score / len(labels)\n",
    "def create_dataset(dataset):\n",
    "    dataX, dataY = [], []\n",
    "    for line in dataset.itertuples():\n",
    "        lineindex = line[0]\n",
    "        thislist = dataset.loc[lineindex].values\n",
    "        a = thislist[:-1]\n",
    "        b = thislist[-1]\n",
    "        dataX.append(a)\n",
    "        dataY.append(b)\n",
    "    return np.array(dataX), np.array(dataY)"
   ]
  },
  {
   "cell_type": "code",
   "execution_count": 3,
   "metadata": {},
   "outputs": [],
   "source": [
    "def def_model(w2vDimension, n_symbols, input_length):\n",
    "    model = Sequential()\n",
    "    model.add(Embedding(output_dim=w2vDimension, input_dim=n_symbols, mask_zero=False, input_length=input_length, trainable=False))\n",
    "    model.add(Bidirectional(LSTM(hidden_dim_1, return_sequences=True)))\n",
    "    model.add(TimeDistributed(Dense(hidden_dim_2, activation=\"tanh\")))\n",
    "    return model"
   ]
  },
  {
   "cell_type": "code",
   "execution_count": 7,
   "metadata": {},
   "outputs": [
    {
     "name": "stdout",
     "output_type": "stream",
     "text": [
      "80000 20000\n"
     ]
    }
   ],
   "source": [
    "dataframe = pd.read_csv('./datas/100thousand@6.csv', engine='python', sep='|', header=None)\n",
    "input_length = dataframe.shape[1] - 1\n",
    "nb_classes = dataframe.values.max() + 1\n",
    "train, validation = train_test_split(dataframe, test_size=0.2, random_state=14)\n",
    "print(len(train), len(validation))\n",
    "\n",
    "X_train, Y_train = create_dataset(train)\n",
    "X_valid, Y_valid = create_dataset(validation)"
   ]
  },
  {
   "cell_type": "code",
   "execution_count": 8,
   "metadata": {},
   "outputs": [],
   "source": [
    "import gc\n",
    "del train, validation\n",
    "gc.collect();"
   ]
  },
  {
   "cell_type": "code",
   "execution_count": 9,
   "metadata": {
    "scrolled": true
   },
   "outputs": [],
   "source": [
    "embedding_Dimension = 100\n",
    "hidden_dim_1 = 200\n",
    "hidden_dim_2 = 100\n",
    "NUM_CLASSES = nb_classes\n",
    "\n",
    "\n",
    "base_network = def_model(embedding_Dimension, nb_classes, input_length)\n",
    "input_a = Input(shape=(input_length,))\n",
    "processed_a = base_network(input_a)\n",
    "pool_rnn = Lambda(lambda x: K.max(x, axis=1), output_shape=(hidden_dim_2,))(processed_a)\n",
    "output = Dense(NUM_CLASSES, input_dim=hidden_dim_2, activation='softmax')(pool_rnn)\n",
    "rcnn_model = Model(inputs=input_a, outputs=output)\n",
    "epochs = 100\n",
    "lrate = 0.01\n",
    "decay = lrate / epochs\n",
    "sgd = SGD(lr=lrate, momentum=0.9, decay=decay, nesterov=False)\n",
    "top20_acc = partial(keras.metrics.sparse_top_k_categorical_accuracy, k=20)\n",
    "top20_acc.__name__ = 'acc'\n",
    "rcnn_model.compile(loss='sparse_categorical_crossentropy', optimizer=sgd, metrics=[top20_acc])\n",
    "callbacks = [EarlyStopping(monitor='val_loss', patience=3, verbose=1)]\n"
   ]
  },
  {
   "cell_type": "code",
   "execution_count": 10,
   "metadata": {},
   "outputs": [
    {
     "name": "stdout",
     "output_type": "stream",
     "text": [
      "_________________________________________________________________\n",
      "Layer (type)                 Output Shape              Param #   \n",
      "=================================================================\n",
      "input_1 (InputLayer)         (None, 5)                 0         \n",
      "_________________________________________________________________\n",
      "sequential_1 (Sequential)    (None, 5, 100)            5210800   \n",
      "_________________________________________________________________\n",
      "lambda_1 (Lambda)            (None, 100)               0         \n",
      "_________________________________________________________________\n",
      "dense_2 (Dense)              (None, 46891)             4735991   \n",
      "=================================================================\n",
      "Total params: 9,946,791\n",
      "Trainable params: 5,257,691\n",
      "Non-trainable params: 4,689,100\n",
      "_________________________________________________________________\n",
      "None\n"
     ]
    }
   ],
   "source": [
    "print(rcnn_model.summary())"
   ]
  },
  {
   "cell_type": "code",
   "execution_count": null,
   "metadata": {},
   "outputs": [
    {
     "name": "stdout",
     "output_type": "stream",
     "text": [
      "WARNING:tensorflow:Variable *= will be deprecated. Use variable.assign_mul if you want assignment to the variable value or 'x = x * y' if you want a new python Tensor object.\n",
      "Train on 80000 samples, validate on 20000 samples\n",
      "Epoch 1/100\n",
      " - 135s - loss: 9.2825 - acc: 0.3543 - val_loss: 7.5259 - val_acc: 0.3579\n",
      "Epoch 2/100\n"
     ]
    }
   ],
   "source": [
    "history = rcnn_model.fit(X_train, Y_train, batch_size=128, epochs=epochs, verbose=2, validation_data=(X_valid, Y_valid), callbacks=callbacks)"
   ]
  },
  {
   "cell_type": "code",
   "execution_count": 9,
   "metadata": {},
   "outputs": [
    {
     "data": {
      "image/png": "[encoded data removed]",
      "text/plain": [
       "<Figure size 432x288 with 2 Axes>"
      ]
     },
     "metadata": {},
     "output_type": "display_data"
    }
   ],
   "source": [
    "#**************************--output--****************************************\n",
    "# Plot the loss and accuracy curves for training and validation\n",
    "fig, ax = plt.subplots(2,1)\n",
    "ax[0].plot(history.history['loss'], color='b', label=\"Training loss\")\n",
    "ax[0].plot(history.history['val_loss'], color='r', label=\"Validation loss\",axes =ax[0])\n",
    "legend = ax[0].legend(loc='best', shadow=True)\n",
    "\n",
    "ax[1].plot(history.history['acc'], color='b', label=\"Training accuracy\")\n",
    "ax[1].plot(history.history['val_acc'], color='r',label=\"Validation accuracy\")\n",
    "legend = ax[1].legend(loc='best', shadow=True)\n",
    "plt.show()\n",
    "#*****************************************************************************"
   ]
  },
  {
   "cell_type": "code",
   "execution_count": 16,
   "metadata": {},
   "outputs": [
    {
     "name": "stdout",
     "output_type": "stream",
     "text": [
      "dict_keys(['val_loss', 'val_acc', 'loss', 'acc'])\n"
     ]
    },
    {
     "data": {
      "image/png": "[encoded data removed]",
      "text/plain": [
       "<Figure size 432x288 with 1 Axes>"
      ]
     },
     "metadata": {},
     "output_type": "display_data"
    },
    {
     "data": {
      "image/png": "[encoded data removed]",
      "text/plain": [
       "<Figure size 432x288 with 1 Axes>"
      ]
     },
     "metadata": {},
     "output_type": "display_data"
    }
   ],
   "source": [
    "print(history.history.keys())\n",
    "# summarize history for accuracy\n",
    "plt.plot(history.history['acc'])\n",
    "plt.plot(history.history['val_acc'])\n",
    "# plt.title('model accuracy')\n",
    "plt.ylabel('Top 20 accuracy')\n",
    "plt.xlabel('Number of epochs')\n",
    "plt.legend(['train', 'validation'], loc='best')\n",
    "foo_fig = plt.gcf() # 'get current figure'\n",
    "foo_fig.savefig('Top 20 accuracy.eps', format='eps', dpi=1000)\n",
    "plt.show()\n",
    "# summarize history for loss\n",
    "plt.plot(history.history['loss'])\n",
    "plt.plot(history.history['val_loss'])\n",
    "# plt.title('model loss')\n",
    "plt.ylabel('loss')\n",
    "plt.xlabel('Number of epochs')\n",
    "plt.legend(['train', 'validation'], loc='best')\n",
    "foo_fig = plt.gcf() # 'get current figure'\n",
    "foo_fig.savefig('model loss.eps', format='eps', dpi=1000)\n",
    "plt.show()"
   ]
  },
  {
   "cell_type": "code",
   "execution_count": 14,
   "metadata": {},
   "outputs": [
    {
     "name": "stdout",
     "output_type": "stream",
     "text": [
      "Precision:0.018425\tRecall:0.3685\tF1:0.035095238095238096\n",
      "[6.5369653968811035, 0.3685]\n",
      "Precision score for classification model -  0.1135\n"
     ]
    }
   ],
   "source": [
    "y_proba = rcnn_model.predict(X_valid, verbose=0)\n",
    "y_pred = y_proba.argmax(axis=1)\n",
    "k = 20\n",
    "y_predTopk = np.argsort(y_proba, axis=1)[:, y_proba.shape[1] - k::]\n",
    "pre = get_precision_score(Y_valid, y_predTopk)\n",
    "recall = get_recall_score(Y_valid, y_predTopk)\n",
    "F1 = 2 * pre * recall / (pre + recall)\n",
    "print('Precision:{0}\\tRecall:{1}\\tF1:{2}'.format(pre, recall, F1))\n",
    "score = rcnn_model.evaluate(X_valid, Y_valid, verbose=0)\n",
    "print(score)\n",
    "# prediction=rcnn_model.predict_classes(X_test)\n",
    "testprecision = precision_score(Y_valid, y_pred, average='micro')\n",
    "print(\"Precision score for classification model - \", testprecision)"
   ]
  },
  {
   "cell_type": "code",
   "execution_count": 13,
   "metadata": {},
   "outputs": [
    {
     "data": {
      "text/plain": [
       "0.1135"
      ]
     },
     "execution_count": 13,
     "metadata": {},
     "output_type": "execute_result"
    }
   ],
   "source": [
    "from sklearn.metrics import accuracy_score\n",
    "accuracy_score(Y_valid, y_pred)"
   ]
  },
  {
   "cell_type": "code",
   "execution_count": 28,
   "metadata": {},
   "outputs": [
    {
     "data": {
      "text/plain": [
       "array([[840],\n",
       "       [840],\n",
       "       [840],\n",
       "       ..., \n",
       "       [840],\n",
       "       [840],\n",
       "       [840]], dtype=int64)"
      ]
     },
     "execution_count": 28,
     "metadata": {},
     "output_type": "execute_result"
    }
   ],
   "source": [
    "y_predTopk"
   ]
  },
  {
   "cell_type": "code",
   "execution_count": 23,
   "metadata": {},
   "outputs": [
    {
     "data": {
      "text/plain": [
       "2405"
      ]
     },
     "execution_count": 23,
     "metadata": {},
     "output_type": "execute_result"
    }
   ],
   "source": [
    "y_predTopk.max()"
   ]
  },
  {
   "cell_type": "code",
   "execution_count": 24,
   "metadata": {},
   "outputs": [
    {
     "data": {
      "text/plain": [
       "2405"
      ]
     },
     "execution_count": 24,
     "metadata": {},
     "output_type": "execute_result"
    }
   ],
   "source": [
    "y_predTopk.min()"
   ]
  },
  {
   "cell_type": "code",
   "execution_count": null,
   "metadata": {
    "collapsed": true
   },
   "outputs": [],
   "source": []
  }
 ],
 "metadata": {
  "kernelspec": {
   "display_name": "Python 3",
   "language": "python",
   "name": "python3"
  },
  "language_info": {
   "codemirror_mode": {
    "name": "ipython",
    "version": 3
   },
   "file_extension": ".py",
   "mimetype": "text/x-python",
   "name": "python",
   "nbconvert_exporter": "python",
   "pygments_lexer": "ipython3",
   "version": "3.6.5"
  }
 },
 "nbformat": 4,
 "nbformat_minor": 2
}
